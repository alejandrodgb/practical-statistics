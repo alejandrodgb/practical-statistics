{
 "cells": [
  {
   "cell_type": "markdown",
   "metadata": {},
   "source": [
    "# Conditional Probability & Bayes Rule Quiz\n",
    "\n",
    "In the previous section, you found the following proportions from the cancer results dataset.\n",
    "\n",
    "* Patients with cancer: 0.105\n",
    "* Patients without cancer: 0.895\n",
    "* Patients with cancer who tested positive: 0.905\n",
    "* Patients with cancer who tested negative: 0.095\n",
    "* Patients without cancer who tested positive: 0.204\n",
    "* Patients without cancer who tested negative: 0.796\n",
    "* Based on the above proportions observed in the data, we can assume the following probabilities.\n",
    "\n",
    "#### Probability\tMeaning\n",
    "* P(cancer) = 0.105\tProbability a patient has cancer\n",
    "* P(~cancer) = 0.895\tProbability a patient does not have cancer\n",
    "* P(positive|cancer) = 0.905\tProbability a patient with cancer tests positive\n",
    "* P(negative|cancer) = 0.095\tProbability a patient with cancer tests negative\n",
    "* P(positive|~cancer) = 0.204\tProbability a patient without cancer tests positive\n",
    "* P(negative|~cancer) = 0.796\tProbability a patient without cancer tests negative"
   ]
  },
  {
   "cell_type": "markdown",
   "metadata": {},
   "source": [
    "## Quiz Questions\n",
    "\n",
    "Use the probabilities given above and Bayes rule to compute the following probabilities.\n",
    "\n",
    "* Probability a patient who tested positive has cancer, or P(cancer|positive)\n",
    "* Probability a patient who tested positive doesn't have cancer, or P(~cancer|positive)\n",
    "* Probability a patient who tested negative has cancer, or P(cancer|negative)\n",
    "* Probability a patient who tested negative doesn't have cancer, or P(~cancer|negative)"
   ]
  },
  {
   "cell_type": "code",
   "execution_count": 8,
   "metadata": {},
   "outputs": [],
   "source": [
    "# probabilities\n",
    "p_cancer = 0.105\n",
    "p_nocancer = 0.895\n",
    "p_pos_g_cancer = 0.905\n",
    "p_neg_g_cancer = 0.095\n",
    "p_pos_g_nocancer = 0.204\n",
    "p_neg_g_nocancer = 0.796"
   ]
  },
  {
   "cell_type": "code",
   "execution_count": 18,
   "metadata": {
    "scrolled": true
   },
   "outputs": [
    {
     "name": "stdout",
     "output_type": "stream",
     "text": [
      "p(cancer|positive)=0.34230291241151994\n",
      "p(~cancer|positive)=0.65769708758848\n"
     ]
    }
   ],
   "source": [
    "# p(cancer|positive) & p(~cancer|positive)\n",
    "p_cancer_pos=p_cancer*p_pos_g_cancer\n",
    "p_nocancer_pos=p_nocancer*p_pos_g_nocancer\n",
    "p_pos=p_cancer_pos+p_nocancer_pos\n",
    "\n",
    "print('p(cancer|positive)={}\\np(~cancer|positive)={}'.format(p_cancer_pos/p_pos, p_nocancer_pos/p_pos))"
   ]
  },
  {
   "cell_type": "code",
   "execution_count": 19,
   "metadata": {},
   "outputs": [
    {
     "name": "stdout",
     "output_type": "stream",
     "text": [
      "p(cancer|~positive)=0.013808235106832134\n",
      "p(~cancer|~positive)=0.986191764893168\n"
     ]
    }
   ],
   "source": [
    "# p(cancer|~positive) & p(~cancer|~positive)\n",
    "\n",
    "p_cancer_neg = p_cancer*p_neg_g_cancer\n",
    "p_nocancer_neg = p_nocancer*p_neg_g_nocancer\n",
    "p_neg = p_cancer_neg+p_nocancer_neg\n",
    "\n",
    "print('p(cancer|~positive)={}\\np(~cancer|~positive)={}'.format(p_cancer_neg/p_neg,p_nocancer_neg/p_neg))"
   ]
  }
 ],
 "metadata": {
  "kernelspec": {
   "display_name": "Python 3",
   "language": "python",
   "name": "python3"
  },
  "language_info": {
   "codemirror_mode": {
    "name": "ipython",
    "version": 3
   },
   "file_extension": ".py",
   "mimetype": "text/x-python",
   "name": "python",
   "nbconvert_exporter": "python",
   "pygments_lexer": "ipython3",
   "version": "3.6.3"
  }
 },
 "nbformat": 4,
 "nbformat_minor": 2
}
